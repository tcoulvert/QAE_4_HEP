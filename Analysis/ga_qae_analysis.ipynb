{
 "cells": [
  {
   "cell_type": "code",
   "execution_count": 22,
   "id": "7d5312fe-3567-46cc-8340-bff4ca503693",
   "metadata": {},
   "outputs": [],
   "source": [
    "import time\n",
    "\n",
    "# import setGPU\n",
    "import numpy\n",
    "import h5py\n",
    "import pandas as pd\n",
    "import pennylane as qml\n",
    "import scipy as sp\n",
    "from matplotlib import pyplot as plt\n",
    "# from pickle import load\n",
    "from json import load\n",
    "from sklearn.preprocessing import MinMaxScaler\n",
    "from sklearn.metrics import RocCurveDisplay, roc_curve, roc_auc_score\n",
    "from pennylane import numpy as np"
   ]
  },
  {
   "cell_type": "code",
   "execution_count": 23,
   "id": "7caa471d-f316-4330-8f0a-48c965696190",
   "metadata": {},
   "outputs": [],
   "source": [
    "events = numpy.load('10k_dijet.npy')\n",
    "scaler = MinMaxScaler(feature_range=(0, sp.pi))\n",
    "events = scaler.fit_transform(events)\n",
    "\n",
    "events_bkg = numpy.load('10k_dijet_bb1.npy')\n",
    "classes = numpy.load('10k_dijet_bb1_class.npy')\n",
    "events_bkg = scaler.fit_transform(events_bkg)"
   ]
  },
  {
   "cell_type": "code",
   "execution_count": 24,
   "id": "201e4b37-b683-4946-afa9-7652f0b7cc6a",
   "metadata": {},
   "outputs": [
    {
     "name": "stdout",
     "output_type": "stream",
     "text": [
      "(1000000,)\n"
     ]
    }
   ],
   "source": [
    "f = open('events_LHCO2020_BlackBox1.masterkey', 'r')\n",
    "event_classes = numpy.genfromtxt(f, delimiter=',')\n",
    "print(event_classes.shape)\n",
    "event_class = event_classes[classes.tolist()]"
   ]
  },
  {
   "cell_type": "code",
   "execution_count": 25,
   "id": "b220b485-4f49-41a1-af43-1383a79042bf",
   "metadata": {
    "tags": []
   },
   "outputs": [],
   "source": [
    "def make_ansatz_qml(ansatz_saved):\n",
    "    ansatz_qml = []\n",
    "    params = []\n",
    "    for j in range(len(ansatz_saved)):\n",
    "        moment_dict = {i: list() for i in ['I', 'RX', 'RY', 'RZ', 'CNOT']}\n",
    "        stored_i = []\n",
    "        for i in range(3):\n",
    "            _ix = ansatz_saved[j][f'{i}'].find('_')\n",
    "            if _ix < 0:\n",
    "                moment_dict[ansatz_saved[j][f'{i}']].append(i)\n",
    "            else:\n",
    "                if i in stored_i:\n",
    "                    continue\n",
    "                _1ix = ansatz_saved[j][f'{i}'][_ix+1]\n",
    "                q_p = int(ansatz_saved[j][f'{i}'][-1])\n",
    "                stored_i.append(q_p)\n",
    "                if _1ix == 'C':\n",
    "                    moment_dict[ansatz_saved[j][f'{i}'][:_ix]].append([i, int(q_p)])\n",
    "                else:\n",
    "                    moment_dict[ansatz_saved[j][f'{i}'][:_ix]].append([int(q_p), i])\n",
    "\n",
    "        for k in moment_dict.keys():\n",
    "            if len(moment_dict[k]) == 0 or k == 'I': # add in identity gates?\n",
    "                continue\n",
    "            if len(k) <= 2:\n",
    "                ansatz_qml.append(f\"qml.broadcast(qml.{k}, wires={moment_dict[k]}, pattern='single', parameters=params[{len(params)}:{len(params)+len(moment_dict[k])}])\")\n",
    "                # change to allow for one-qubit gates with 0 or 2+ params\n",
    "                for i in range(len(moment_dict[k])):\n",
    "                    params.append(0.0)\n",
    "            elif len(k) > 2: # Assumes the 2-qubit gates have no parameters, which is not generally true\n",
    "                ansatz_qml.append(f\"qml.broadcast(qml.{k}, wires={np.array(moment_dict[k]).flatten(order='C').tolist()}, pattern={moment_dict[k]})\")\n",
    "                # change to allow for two-qubit gates with 1+ params\n",
    "\n",
    "    return ansatz_qml, params"
   ]
  },
  {
   "cell_type": "code",
   "execution_count": 26,
   "id": "7f861136-ff22-45db-8bd1-6601a3eededd",
   "metadata": {},
   "outputs": [
    {
     "name": "stdout",
     "output_type": "stream",
     "text": [
      "[{'0': 'RZ', '1': 'RX', '2': 'RX'}, {'0': 'RZ', '1': 'RX', '2': 'RX'}, {'0': 'RY', '1': 'CNOT_C-2', '2': 'CNOT_T-1'}, {'0': 'RZ', '1': 'I', '2': 'RX'}]\n",
      "[\"qml.broadcast(qml.RX, wires=[1, 2], pattern='single', parameters=params[0:2])\", \"qml.broadcast(qml.RZ, wires=[0], pattern='single', parameters=params[2:3])\", \"qml.broadcast(qml.RX, wires=[1, 2], pattern='single', parameters=params[3:5])\", \"qml.broadcast(qml.RZ, wires=[0], pattern='single', parameters=params[5:6])\", \"qml.broadcast(qml.RY, wires=[0], pattern='single', parameters=params[6:7])\", 'qml.broadcast(qml.CNOT, wires=[1, 2], pattern=[[1, 2]])', \"qml.broadcast(qml.RX, wires=[2], pattern='single', parameters=params[7:8])\", \"qml.broadcast(qml.RZ, wires=[0], pattern='single', parameters=params[8:9])\"]\n",
      "[0.0, 0.0, 0.0, 0.0, 0.0, 0.0, 0.0, 0.0, 0.0]\n",
      "9\n"
     ]
    }
   ],
   "source": [
    "with open('/Users/tsievert/GA Caltech/GA_Ansatz_Search/ga_vqc/ga_runs/final_evolution_results-2023-03-24_15-47-24.json', \"r\") as f:\n",
    "    final_dict = load(f)\n",
    "\n",
    "ansatz_saved = final_dict['best_ansatz']\n",
    "print(ansatz_saved)\n",
    "    \n",
    "ansatz_qml, parameters = make_ansatz_qml(ansatz_saved)\n",
    "# ansatz_qml = numpy.load('qae_runs_2022-11-16_10-23-03/opt_ansatz/31_002ga_best1e+03_run_ansatz.npy')\n",
    "print(ansatz_qml)\n",
    "# parameters = np.load('qae_runs_2022-11-16_10-23-03/opt_thetas/31_002ga_best1e+03_data_theta.npy')\n",
    "print(parameters)\n",
    "print(len(parameters))"
   ]
  },
  {
   "cell_type": "code",
   "execution_count": 27,
   "id": "816b8278-dbe1-4d63-990b-3d8058f43b17",
   "metadata": {},
   "outputs": [],
   "source": [
    "n_shots = 5000\n",
    "# dev1 = qml.device('qulacs.simulator', wires=6, gpu=True, shots=n_shots)\n",
    "dev1 = qml.device('default.qubit', wires=6, shots=n_shots)\n",
    "@qml.qnode(dev1)\n",
    "def circuit(params, event=None):\n",
    "    # Embed the data into the circuit\n",
    "    qml.broadcast(qml.RX, wires=range(3), pattern='single', parameters=event)\n",
    "    qml.Hadamard(wires=5)\n",
    "    # Run the actual circuit ansatz\n",
    "    for m in ansatz_qml:\n",
    "        exec(m)\n",
    "\n",
    "    # Perform the SWAP-Test for a qubit fidelity measurement\n",
    "    qml.broadcast(qml.CSWAP, wires=range(1, 6), pattern=[[5, 1, 3], [5, 2, 4]])\n",
    "    qml.Hadamard(wires=5)\n",
    "\n",
    "    qml.PauliX(wires=5)\n",
    "\n",
    "    return qml.expval(qml.PauliZ(wires=5))\n",
    "\n",
    "# def cost_func(params, data):\n",
    "#     return (circuit(params, event=data)**2)**(1/2)"
   ]
  },
  {
   "cell_type": "code",
   "execution_count": 28,
   "id": "e75d007f-ab05-4a2d-841b-ba64865c53bb",
   "metadata": {
    "tags": []
   },
   "outputs": [
    {
     "name": "stdout",
     "output_type": "stream",
     "text": [
      "Step 1 with cost -0.2708\n",
      "Step 26 with cost -0.3455\n",
      "Step 51 with cost -0.0769\n",
      "Step 76 with cost -0.6805\n",
      "Step 101 with cost -0.5213\n",
      "Step 126 with cost -0.0479\n"
     ]
    },
    {
     "ename": "KeyboardInterrupt",
     "evalue": "",
     "output_type": "error",
     "traceback": [
      "\u001b[0;31m---------------------------------------------------------------------------\u001b[0m",
      "\u001b[0;31mKeyboardInterrupt\u001b[0m                         Traceback (most recent call last)",
      "\u001b[1;32m/Users/tsievert/Downloads/ga_qae_analysis.ipynb Cell 7\u001b[0m in \u001b[0;36m<cell line: 12>\u001b[0;34m()\u001b[0m\n\u001b[1;32m     <a href='vscode-notebook-cell:/Users/tsievert/Downloads/ga_qae_analysis.ipynb#X10sZmlsZQ%3D%3D?line=22'>23</a>\u001b[0m     \u001b[39mprint\u001b[39m(\u001b[39m'\u001b[39m\u001b[39mStep \u001b[39m\u001b[39m%d\u001b[39;00m\u001b[39m with cost \u001b[39m\u001b[39m%.4f\u001b[39;00m\u001b[39m'\u001b[39m \u001b[39m%\u001b[39m (_, qng_cost[ix][\u001b[39m-\u001b[39m\u001b[39m1\u001b[39m]))\n\u001b[1;32m     <a href='vscode-notebook-cell:/Users/tsievert/Downloads/ga_qae_analysis.ipynb#X10sZmlsZQ%3D%3D?line=24'>25</a>\u001b[0m \u001b[39mfor\u001b[39;00m i \u001b[39min\u001b[39;00m \u001b[39mrange\u001b[39m(event_batch\u001b[39m.\u001b[39mshape[\u001b[39m0\u001b[39m]):\n\u001b[0;32m---> <a href='vscode-notebook-cell:/Users/tsievert/Downloads/ga_qae_analysis.ipynb#X10sZmlsZQ%3D%3D?line=25'>26</a>\u001b[0m     fub_stud \u001b[39m=\u001b[39m qml\u001b[39m.\u001b[39;49mmetric_tensor(circuit, approx\u001b[39m=\u001b[39;49m\u001b[39m'\u001b[39;49m\u001b[39mblock-diag\u001b[39;49m\u001b[39m'\u001b[39;49m)(theta, event\u001b[39m=\u001b[39;49mevent_batch[i]) \u001b[39m# doesnt compute fubiny-study automatically??\u001b[39;00m\n\u001b[1;32m     <a href='vscode-notebook-cell:/Users/tsievert/Downloads/ga_qae_analysis.ipynb#X10sZmlsZQ%3D%3D?line=26'>27</a>\u001b[0m     grads[i] \u001b[39m=\u001b[39m np\u001b[39m.\u001b[39mmatmul(fub_stud, opt\u001b[39m.\u001b[39mcompute_grad(circuit, (theta, event_batch[i]), {})[\u001b[39m0\u001b[39m][\u001b[39m0\u001b[39m]) \u001b[39m# isn't already anti-gradient??\u001b[39;00m\n\u001b[1;32m     <a href='vscode-notebook-cell:/Users/tsievert/Downloads/ga_qae_analysis.ipynb#X10sZmlsZQ%3D%3D?line=27'>28</a>\u001b[0m     costs[i] \u001b[39m=\u001b[39m circuit(theta, event\u001b[39m=\u001b[39mevent_batch[i])\n",
      "File \u001b[0;32m/Library/Frameworks/Python.framework/Versions/3.9/lib/python3.9/site-packages/pennylane/transforms/metric_tensor.py:335\u001b[0m, in \u001b[0;36mqnode_execution_wrapper.<locals>.wrapper\u001b[0;34m(*args, **kwargs)\u001b[0m\n\u001b[1;32m    332\u001b[0m     \u001b[39mreturn\u001b[39;00m ()\n\u001b[1;32m    334\u001b[0m \u001b[39mtry\u001b[39;00m:\n\u001b[0;32m--> 335\u001b[0m     mt \u001b[39m=\u001b[39m mt_fn(\u001b[39m*\u001b[39;49margs, \u001b[39m*\u001b[39;49m\u001b[39m*\u001b[39;49mkwargs)\n\u001b[1;32m    336\u001b[0m \u001b[39mexcept\u001b[39;00m qml\u001b[39m.\u001b[39mwires\u001b[39m.\u001b[39mWireError \u001b[39mas\u001b[39;00m e:\n\u001b[1;32m    337\u001b[0m     \u001b[39mif\u001b[39;00m \u001b[39mstr\u001b[39m(e) \u001b[39m==\u001b[39m \u001b[39m\"\u001b[39m\u001b[39mNo device wires are unused by the tape.\u001b[39m\u001b[39m\"\u001b[39m:\n",
      "File \u001b[0;32m/Library/Frameworks/Python.framework/Versions/3.9/lib/python3.9/site-packages/pennylane/transforms/batch_transform.py:288\u001b[0m, in \u001b[0;36mbatch_transform.default_qnode_wrapper.<locals>._wrapper\u001b[0;34m(*args, **kwargs)\u001b[0m\n\u001b[1;32m    286\u001b[0m \u001b[39mdef\u001b[39;00m \u001b[39m_wrapper\u001b[39m(\u001b[39m*\u001b[39margs, \u001b[39m*\u001b[39m\u001b[39m*\u001b[39mkwargs):\n\u001b[1;32m    287\u001b[0m     shots \u001b[39m=\u001b[39m kwargs\u001b[39m.\u001b[39mpop(\u001b[39m\"\u001b[39m\u001b[39mshots\u001b[39m\u001b[39m\"\u001b[39m, \u001b[39mFalse\u001b[39;00m)\n\u001b[0;32m--> 288\u001b[0m     qnode\u001b[39m.\u001b[39;49mconstruct(args, kwargs)\n\u001b[1;32m    289\u001b[0m     tapes, processing_fn \u001b[39m=\u001b[39m \u001b[39mself\u001b[39m\u001b[39m.\u001b[39mconstruct(qnode\u001b[39m.\u001b[39mqtape, \u001b[39m*\u001b[39mtargs, \u001b[39m*\u001b[39m\u001b[39m*\u001b[39mtkwargs)\n\u001b[1;32m    291\u001b[0m     interface \u001b[39m=\u001b[39m qnode\u001b[39m.\u001b[39minterface\n",
      "File \u001b[0;32m/Library/Frameworks/Python.framework/Versions/3.9/lib/python3.9/site-packages/pennylane/qnode.py:526\u001b[0m, in \u001b[0;36mQNode.construct\u001b[0;34m(self, args, kwargs)\u001b[0m\n\u001b[1;32m    523\u001b[0m \u001b[39mself\u001b[39m\u001b[39m.\u001b[39m_tape \u001b[39m=\u001b[39m qml\u001b[39m.\u001b[39mtape\u001b[39m.\u001b[39mQuantumTape()\n\u001b[1;32m    525\u001b[0m \u001b[39mwith\u001b[39;00m \u001b[39mself\u001b[39m\u001b[39m.\u001b[39mtape:\n\u001b[0;32m--> 526\u001b[0m     \u001b[39mself\u001b[39m\u001b[39m.\u001b[39m_qfunc_output \u001b[39m=\u001b[39m \u001b[39mself\u001b[39;49m\u001b[39m.\u001b[39;49mfunc(\u001b[39m*\u001b[39;49margs, \u001b[39m*\u001b[39;49m\u001b[39m*\u001b[39;49mkwargs)\n\u001b[1;32m    527\u001b[0m \u001b[39mself\u001b[39m\u001b[39m.\u001b[39m_tape\u001b[39m.\u001b[39m_qfunc_output \u001b[39m=\u001b[39m \u001b[39mself\u001b[39m\u001b[39m.\u001b[39m_qfunc_output\n\u001b[1;32m    529\u001b[0m params \u001b[39m=\u001b[39m \u001b[39mself\u001b[39m\u001b[39m.\u001b[39mtape\u001b[39m.\u001b[39mget_parameters(trainable_only\u001b[39m=\u001b[39m\u001b[39mFalse\u001b[39;00m)\n",
      "\u001b[1;32m/Users/tsievert/Downloads/ga_qae_analysis.ipynb Cell 7\u001b[0m in \u001b[0;36mcircuit\u001b[0;34m(params, event)\u001b[0m\n\u001b[1;32m      <a href='vscode-notebook-cell:/Users/tsievert/Downloads/ga_qae_analysis.ipynb#X10sZmlsZQ%3D%3D?line=8'>9</a>\u001b[0m \u001b[39m# Run the actual circuit ansatz\u001b[39;00m\n\u001b[1;32m     <a href='vscode-notebook-cell:/Users/tsievert/Downloads/ga_qae_analysis.ipynb#X10sZmlsZQ%3D%3D?line=9'>10</a>\u001b[0m \u001b[39mfor\u001b[39;00m m \u001b[39min\u001b[39;00m ansatz_qml:\n\u001b[0;32m---> <a href='vscode-notebook-cell:/Users/tsievert/Downloads/ga_qae_analysis.ipynb#X10sZmlsZQ%3D%3D?line=10'>11</a>\u001b[0m     exec(m)\n\u001b[1;32m     <a href='vscode-notebook-cell:/Users/tsievert/Downloads/ga_qae_analysis.ipynb#X10sZmlsZQ%3D%3D?line=12'>13</a>\u001b[0m \u001b[39m# Perform the SWAP-Test for a qubit fidelity measurement\u001b[39;00m\n\u001b[1;32m     <a href='vscode-notebook-cell:/Users/tsievert/Downloads/ga_qae_analysis.ipynb#X10sZmlsZQ%3D%3D?line=13'>14</a>\u001b[0m qml\u001b[39m.\u001b[39mbroadcast(qml\u001b[39m.\u001b[39mCSWAP, wires\u001b[39m=\u001b[39m\u001b[39mrange\u001b[39m(\u001b[39m1\u001b[39m, \u001b[39m6\u001b[39m), pattern\u001b[39m=\u001b[39m[[\u001b[39m5\u001b[39m, \u001b[39m1\u001b[39m, \u001b[39m3\u001b[39m], [\u001b[39m5\u001b[39m, \u001b[39m2\u001b[39m, \u001b[39m4\u001b[39m]])\n",
      "\u001b[0;31mKeyboardInterrupt\u001b[0m: "
     ]
    }
   ],
   "source": [
    "rng = np.random.default_rng()\n",
    "qng_cost = [[], [], [], [], []]\n",
    "opt = qml.QNGOptimizer(1e-7)\n",
    "ix = 0\n",
    "start_time = time.time()\n",
    "# for train_size, steps in zip([10], [200]):\n",
    "train_size = 1000\n",
    "steps = 500\n",
    "best_perf = [100000, np.array([])]\n",
    "theta = sp.pi * rng.random(size=20, requires_grad=True)\n",
    "event_sub = rng.choice(events, train_size, replace=False)\n",
    "for _ in range(steps):\n",
    "\n",
    "    if train_size > 100:\n",
    "        event_batch = rng.choice(event_sub, 100, replace=False)\n",
    "    else:\n",
    "        event_batch = event_sub\n",
    "\n",
    "    grads = np.zeros((event_batch.shape[0], theta.shape[0]))\n",
    "    costs = np.zeros(event_batch.shape[0])\n",
    "\n",
    "    if (_%25 == 1 or _==(steps-1)):\n",
    "        print('Step %d with cost %.4f' % (_, qng_cost[ix][-1]))\n",
    "\n",
    "    for i in range(event_batch.shape[0]):\n",
    "        fub_stud = qml.metric_tensor(circuit, approx='block-diag')(theta, event=event_batch[i]) # doesnt compute fubiny-study automatically??\n",
    "        grads[i] = np.matmul(fub_stud, opt.compute_grad(circuit, (theta, event_batch[i]), {})[0][0]) # isn't already anti-gradient??\n",
    "        costs[i] = circuit(theta, event=event_batch[i])\n",
    "        # if costs[i].item() < 0: # corrects for non-normality of SWAP test, in order to avoid over-training\n",
    "        #     grads[i] *= -1\n",
    "        #     costs[i] *= -1\n",
    "    if best_perf[0] > costs.mean(axis=0):\n",
    "        best_perf[0] = costs.mean(axis=0)\n",
    "        best_perf[1] = theta\n",
    "    theta = theta - np.sum(grads, axis=0)\n",
    "    qng_cost[ix].append(costs.mean(axis=0))\n",
    "\n",
    "np.save('ga_best%.e_data_theta' % train_size, best_perf[1])\n",
    "plt.figure(train_size)\n",
    "plt.style.use(\"seaborn\")\n",
    "plt.plot(qng_cost[ix], \"g\", label=\"QNG Descent - %d data\" % train_size)\n",
    "plt.ylabel(\"Loss (-1 * Fid.)\")\n",
    "plt.xlabel(\"Optimization steps\")\n",
    "plt.legend()\n",
    "plt.savefig(\"GA_QNG_Descent-%d_data.pdf\" % train_size)\n",
    "plt.show()\n",
    "# ix += 1\n",
    "    \n",
    "end_time = time.time()\n",
    "exec_time = end_time-start_time\n",
    "print(f'QML Optimization in {exec_time:.2f} seconds')"
   ]
  },
  {
   "cell_type": "code",
   "execution_count": 30,
   "id": "10d16752",
   "metadata": {},
   "outputs": [
    {
     "name": "stdout",
     "output_type": "stream",
     "text": [
      "[-0.64649619  8.46673929  1.48231182 -0.28421222  6.61017405  1.48552513\n",
      " -0.07996761  9.17665508  0.81777654]\n",
      "[0.0, 0.0, 0.0, 0.0, 0.0, 0.0, 0.0, 0.0, 0.0]\n"
     ]
    }
   ],
   "source": [
    "opt_params = np.load('/Users/tsievert/GA Caltech/QAE_4_HEP/qae_runs_2023-03-24_15-47-24/opt_thetas/04_009ga_best5e+02_data_theta.npy')\n",
    "\n",
    "print(opt_params)\n",
    "print(parameters)"
   ]
  },
  {
   "cell_type": "code",
   "execution_count": 31,
   "id": "1a280d71-7dac-4775-af6d-859e399ab492",
   "metadata": {
    "tags": []
   },
   "outputs": [
    {
     "data": {
      "image/png": "[encoded data removed]",
      "text/plain": [
       "<Figure size 576x396 with 1 Axes>"
      ]
     },
     "metadata": {},
     "output_type": "display_data"
    }
   ],
   "source": [
    "# best_theta = parameters\n",
    "best_theta = opt_params\n",
    "fid = [None, None, None, None, None]\n",
    "for j in range(1):\n",
    "    cost = []\n",
    "\n",
    "    for i in range(np.size(events, axis=0)):\n",
    "        cost.append(circuit(best_theta, event=events[i, :]))\n",
    "\n",
    "    fid[j] = -1 * np.array(cost)\n",
    "\n",
    "plt.style.use(\"seaborn\")\n",
    "plt.xlabel('Fid.')\n",
    "plt.ylabel('a.u')\n",
    "plt.title('Fidelities on QCD Bkg w/ GA Ansatz')\n",
    "for j in range(1):\n",
    "    plt.hist(fid[j], bins=100, density=True, histtype='step', linewidth=1.7, label='Train_size = $10^{%d}$' % 1)\n",
    "    \n",
    "plt.legend(loc='upper left')\n",
    "plt.savefig(\"ga_cont_fid_hist.pdf\")"
   ]
  },
  {
   "cell_type": "code",
   "execution_count": 32,
   "id": "9bb6676e-c509-4898-a238-a86323eced22",
   "metadata": {
    "tags": []
   },
   "outputs": [
    {
     "data": {
      "image/png": "[encoded data removed]",
      "text/plain": [
       "<Figure size 576x396 with 1 Axes>"
      ]
     },
     "metadata": {},
     "output_type": "display_data"
    }
   ],
   "source": [
    "fid_bb1 = [None, None, None, None, None]\n",
    "for j in range(1):\n",
    "    cost = []\n",
    "\n",
    "    for i in range(np.size(events_bkg, axis=0)):\n",
    "        cost.append(circuit(best_theta, event=events_bkg[i, :]))\n",
    "\n",
    "    fid_bb1[j] = -1 * np.array(cost)\n",
    "    \n",
    "plt.style.use(\"seaborn\")\n",
    "plt.xlabel('Fid.')\n",
    "plt.ylabel('a.u')\n",
    "plt.title('Fidelities on BB1 w/ GA Ansatz')\n",
    "for j in range(1):\n",
    "    plt.hist(fid_bb1[j], bins=100, density=True, histtype='step', linewidth=1.7, label='Train_size = $10^{%d}$' % 1)\n",
    "    \n",
    "plt.legend(loc='upper left')\n",
    "plt.savefig(\"ga_cont_fid_hist_bb1.pdf\")"
   ]
  },
  {
   "cell_type": "code",
   "execution_count": 33,
   "id": "a3c93583-1f83-4b11-a181-90e500786bb9",
   "metadata": {
    "tags": []
   },
   "outputs": [
    {
     "data": {
      "image/png": "[encoded data removed]",
      "text/plain": [
       "<Figure size 576x396 with 1 Axes>"
      ]
     },
     "metadata": {},
     "output_type": "display_data"
    }
   ],
   "source": [
    "fid_split = [None, None]\n",
    "bkg_cost, sig_cost = [], []\n",
    "sig_event_count = 0\n",
    "\n",
    "for i in range(np.size(events_bkg, axis=0)):\n",
    "    if event_class[i] == 0:\n",
    "        bkg_cost.append(circuit(best_theta, event=events_bkg[i, :]))\n",
    "    elif event_class[i] == 1:\n",
    "        sig_event_count += 1\n",
    "        sig_cost.append(circuit(best_theta, event=events_bkg[i, :]))\n",
    "\n",
    "color_arr = ['r', 'b']\n",
    "for i in range(2):\n",
    "    if i == 0:\n",
    "        label_str = 'bkg'\n",
    "        fid_split[i] = -1 * np.array(bkg_cost)\n",
    "        n_bins = 100\n",
    "    elif i == 1:\n",
    "        label_str = 'sig'\n",
    "        fid_split[i] = -1 * np.array(sig_cost)\n",
    "        n_bins = 10\n",
    "    \n",
    "    plt.hist(fid_split[i], bins=n_bins, density=True, color=color_arr[i], alpha=0.5, linewidth=1.7, label='Train_size = $10^{%d}$ - %s' % (2, label_str))\n",
    "    plt.legend(loc='upper left')\n",
    "    plt.title('Fidelities on BB1 w/ GA Ansatz')\n",
    "    plt.style.use(\"seaborn\")\n",
    "    plt.xlabel('Fid.')\n",
    "    plt.ylabel('a.u')\n",
    "    \n",
    "plt.savefig(\"ga_cont_fid_hist_bb1_split.pdf\")"
   ]
  },
  {
   "cell_type": "code",
   "execution_count": 34,
   "id": "574fb778-9618-4d48-8a71-c7e5b0f9a6b8",
   "metadata": {},
   "outputs": [
    {
     "data": {
      "image/png": "[encoded data removed]",
      "text/plain": [
       "<Figure size 576x396 with 1 Axes>"
      ]
     },
     "metadata": {},
     "output_type": "display_data"
    }
   ],
   "source": [
    "plt.title('ROC on BB1 w/ GA Ansatz')\n",
    "plt.style.use(\"seaborn\")\n",
    "plt.xlabel('Bkg. Rejection')\n",
    "plt.ylabel('Sig.  Acceptance')\n",
    "k = 0\n",
    "for y in fid_bb1[:1]:\n",
    "    y_pred = [1 - i.tolist() for i in y]\n",
    "    fpr, tpr, thresholds = roc_curve(event_class, y_pred)\n",
    "    bkg_rejec = 1 - fpr\n",
    "    \n",
    "    plt.plot(bkg_rejec, tpr, label='Train_size = $10^{%d}$, auc = %.04f' % (k, roc_auc_score(event_class, y_pred)))\n",
    "    k += 1\n",
    "\n",
    "plt.legend()\n",
    "plt.savefig(\"ga_roc_bb1.pdf\")"
   ]
  },
  {
   "cell_type": "code",
   "execution_count": null,
   "id": "58394498-0f1f-4f36-be23-4873a4dfbffe",
   "metadata": {},
   "outputs": [],
   "source": []
  }
 ],
 "metadata": {
  "kernelspec": {
   "display_name": "Python 3 (ipykernel)",
   "language": "python",
   "name": "python3"
  },
  "language_info": {
   "codemirror_mode": {
    "name": "ipython",
    "version": 3
   },
   "file_extension": ".py",
   "mimetype": "text/x-python",
   "name": "python",
   "nbconvert_exporter": "python",
   "pygments_lexer": "ipython3",
   "version": "3.9.6"
  }
 },
 "nbformat": 4,
 "nbformat_minor": 5
}
