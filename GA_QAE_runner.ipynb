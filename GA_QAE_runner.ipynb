{
 "cells": [
  {
   "cell_type": "code",
   "execution_count": 1,
   "id": "506e996c-ae80-4f20-91a7-22644a48a281",
   "metadata": {
    "tags": []
   },
   "outputs": [],
   "source": [
    "import scipy as sp\n",
    "from pennylane import numpy as np\n",
    "from sklearn.preprocessing import MinMaxScaler\n",
    "\n",
    "# from ga_vqc import setup\n",
    "import ga_vqc as gav\n",
    "from qae import main"
   ]
  },
  {
   "cell_type": "code",
   "execution_count": 2,
   "id": "d4b4cd19-eef8-47f9-a9a2-d87909b2c5b3",
   "metadata": {},
   "outputs": [
    {
     "ename": "FileNotFoundError",
     "evalue": "[Errno 2] No such file or directory: '10k_dijet.npy'",
     "output_type": "error",
     "traceback": [
      "\u001b[0;31m---------------------------------------------------------------------------\u001b[0m",
      "\u001b[0;31mFileNotFoundError\u001b[0m                         Traceback (most recent call last)",
      "Cell \u001b[0;32mIn[2], line 1\u001b[0m\n\u001b[0;32m----> 1\u001b[0m events \u001b[39m=\u001b[39m np\u001b[39m.\u001b[39;49mload(\u001b[39m'\u001b[39;49m\u001b[39m10k_dijet.npy\u001b[39;49m\u001b[39m'\u001b[39;49m, requires_grad\u001b[39m=\u001b[39;49m\u001b[39mFalse\u001b[39;49;00m)\n\u001b[1;32m      2\u001b[0m scaler \u001b[39m=\u001b[39m MinMaxScaler(feature_range\u001b[39m=\u001b[39m(\u001b[39m0\u001b[39m, sp\u001b[39m.\u001b[39mpi))\n\u001b[1;32m      3\u001b[0m events \u001b[39m=\u001b[39m scaler\u001b[39m.\u001b[39mfit_transform(events)\n",
      "File \u001b[0;32m~/GA Caltech/venv/lib/python3.9/site-packages/pennylane/numpy/wrapper.py:117\u001b[0m, in \u001b[0;36mtensor_wrapper.<locals>._wrapped\u001b[0;34m(*args, **kwargs)\u001b[0m\n\u001b[1;32m    114\u001b[0m         tensor_kwargs[\u001b[39m\"\u001b[39m\u001b[39mrequires_grad\u001b[39m\u001b[39m\"\u001b[39m] \u001b[39m=\u001b[39m _np\u001b[39m.\u001b[39many([i\u001b[39m.\u001b[39mrequires_grad \u001b[39mfor\u001b[39;00m i \u001b[39min\u001b[39;00m tensor_args])\n\u001b[1;32m    116\u001b[0m \u001b[39m# evaluate the original object\u001b[39;00m\n\u001b[0;32m--> 117\u001b[0m res \u001b[39m=\u001b[39m obj(\u001b[39m*\u001b[39;49margs, \u001b[39m*\u001b[39;49m\u001b[39m*\u001b[39;49mkwargs)\n\u001b[1;32m    119\u001b[0m \u001b[39mif\u001b[39;00m \u001b[39misinstance\u001b[39m(res, _np\u001b[39m.\u001b[39mndarray):\n\u001b[1;32m    120\u001b[0m     \u001b[39m# only if the output of the object is a ndarray,\u001b[39;00m\n\u001b[1;32m    121\u001b[0m     \u001b[39m# then convert to a PennyLane tensor\u001b[39;00m\n\u001b[1;32m    122\u001b[0m     res \u001b[39m=\u001b[39m tensor(res, \u001b[39m*\u001b[39m\u001b[39m*\u001b[39mtensor_kwargs)\n",
      "File \u001b[0;32m~/GA Caltech/venv/lib/python3.9/site-packages/autograd/tracer.py:48\u001b[0m, in \u001b[0;36mprimitive.<locals>.f_wrapped\u001b[0;34m(*args, **kwargs)\u001b[0m\n\u001b[1;32m     46\u001b[0m     \u001b[39mreturn\u001b[39;00m new_box(ans, trace, node)\n\u001b[1;32m     47\u001b[0m \u001b[39melse\u001b[39;00m:\n\u001b[0;32m---> 48\u001b[0m     \u001b[39mreturn\u001b[39;00m f_raw(\u001b[39m*\u001b[39;49margs, \u001b[39m*\u001b[39;49m\u001b[39m*\u001b[39;49mkwargs)\n",
      "File \u001b[0;32m~/GA Caltech/venv/lib/python3.9/site-packages/numpy/lib/npyio.py:405\u001b[0m, in \u001b[0;36mload\u001b[0;34m(file, mmap_mode, allow_pickle, fix_imports, encoding, max_header_size)\u001b[0m\n\u001b[1;32m    403\u001b[0m     own_fid \u001b[39m=\u001b[39m \u001b[39mFalse\u001b[39;00m\n\u001b[1;32m    404\u001b[0m \u001b[39melse\u001b[39;00m:\n\u001b[0;32m--> 405\u001b[0m     fid \u001b[39m=\u001b[39m stack\u001b[39m.\u001b[39menter_context(\u001b[39mopen\u001b[39;49m(os_fspath(file), \u001b[39m\"\u001b[39;49m\u001b[39mrb\u001b[39;49m\u001b[39m\"\u001b[39;49m))\n\u001b[1;32m    406\u001b[0m     own_fid \u001b[39m=\u001b[39m \u001b[39mTrue\u001b[39;00m\n\u001b[1;32m    408\u001b[0m \u001b[39m# Code to distinguish from NumPy binary files and pickles.\u001b[39;00m\n",
      "\u001b[0;31mFileNotFoundError\u001b[0m: [Errno 2] No such file or directory: '10k_dijet.npy'"
     ]
    }
   ],
   "source": [
    "events = np.load('10k_dijet.npy', requires_grad=False)\n",
    "scaler = MinMaxScaler(feature_range=(0, sp.pi))\n",
    "events = scaler.fit_transform(events)"
   ]
  },
  {
   "cell_type": "code",
   "execution_count": 3,
   "id": "45c38b51-3302-4785-a5de-5f977fb5030c",
   "metadata": {},
   "outputs": [
    {
     "ename": "NameError",
     "evalue": "name 'events' is not defined",
     "output_type": "error",
     "traceback": [
      "\u001b[0;31m---------------------------------------------------------------------------\u001b[0m",
      "\u001b[0;31mNameError\u001b[0m                                 Traceback (most recent call last)",
      "Cell \u001b[0;32mIn[3], line 23\u001b[0m\n\u001b[1;32m      1\u001b[0m rng_seed \u001b[39m=\u001b[39m \u001b[39mNone\u001b[39;00m\n\u001b[1;32m      2\u001b[0m rng \u001b[39m=\u001b[39m np\u001b[39m.\u001b[39mrandom\u001b[39m.\u001b[39mdefault_rng(seed\u001b[39m=\u001b[39mrng_seed)\n\u001b[1;32m      4\u001b[0m config \u001b[39m=\u001b[39m {\n\u001b[1;32m      5\u001b[0m     \u001b[39m'\u001b[39m\u001b[39mbackend_type\u001b[39m\u001b[39m'\u001b[39m: \u001b[39m'\u001b[39m\u001b[39mhigh\u001b[39m\u001b[39m'\u001b[39m,\n\u001b[1;32m      6\u001b[0m     \u001b[39m'\u001b[39m\u001b[39mvqc\u001b[39m\u001b[39m'\u001b[39m: main, \u001b[39m# main func that handles variational quantum circuit training\u001b[39;00m\n\u001b[1;32m      7\u001b[0m     \u001b[39m'\u001b[39m\u001b[39mmax_concurrent\u001b[39m\u001b[39m'\u001b[39m: \u001b[39m1\u001b[39m,\n\u001b[1;32m      8\u001b[0m     \u001b[39m'\u001b[39m\u001b[39mn_qubits\u001b[39m\u001b[39m'\u001b[39m: \u001b[39m3\u001b[39m,\n\u001b[1;32m      9\u001b[0m     \u001b[39m'\u001b[39m\u001b[39mmax_moments\u001b[39m\u001b[39m'\u001b[39m: \u001b[39m10\u001b[39m,\n\u001b[1;32m     10\u001b[0m     \u001b[39m'\u001b[39m\u001b[39madd_moment_prob\u001b[39m\u001b[39m'\u001b[39m: \u001b[39m0.15\u001b[39m,\n\u001b[1;32m     11\u001b[0m     \u001b[39m'\u001b[39m\u001b[39mgates_arr\u001b[39m\u001b[39m'\u001b[39m: [\u001b[39m'\u001b[39m\u001b[39mI\u001b[39m\u001b[39m'\u001b[39m, \u001b[39m'\u001b[39m\u001b[39mRX\u001b[39m\u001b[39m'\u001b[39m, \u001b[39m'\u001b[39m\u001b[39mRY\u001b[39m\u001b[39m'\u001b[39m, \u001b[39m'\u001b[39m\u001b[39mRZ\u001b[39m\u001b[39m'\u001b[39m, \u001b[39m'\u001b[39m\u001b[39mCNOT\u001b[39m\u001b[39m'\u001b[39m],\n\u001b[1;32m     12\u001b[0m     \u001b[39m'\u001b[39m\u001b[39mgates_probs\u001b[39m\u001b[39m'\u001b[39m: [\u001b[39m0.175\u001b[39m, \u001b[39m0.175\u001b[39m, \u001b[39m0.175\u001b[39m, \u001b[39m0.175\u001b[39m, \u001b[39m0.3\u001b[39m],\n\u001b[1;32m     13\u001b[0m     \u001b[39m'\u001b[39m\u001b[39mpop_size\u001b[39m\u001b[39m'\u001b[39m: \u001b[39m20\u001b[39m, \u001b[39m# must be a multiple of max_concurrent\u001b[39;00m\n\u001b[1;32m     14\u001b[0m     \u001b[39m'\u001b[39m\u001b[39minit_pop_size\u001b[39m\u001b[39m'\u001b[39m: \u001b[39m1000\u001b[39m,\n\u001b[1;32m     15\u001b[0m     \u001b[39m'\u001b[39m\u001b[39mn_new_individuals\u001b[39m\u001b[39m'\u001b[39m: \u001b[39m6\u001b[39m,\n\u001b[1;32m     16\u001b[0m     \u001b[39m'\u001b[39m\u001b[39mn_winners\u001b[39m\u001b[39m'\u001b[39m: \u001b[39m20\u001b[39m, \u001b[39m# needs to be an even number\u001b[39;00m\n\u001b[1;32m     17\u001b[0m     \u001b[39m'\u001b[39m\u001b[39mn_mutations\u001b[39m\u001b[39m'\u001b[39m: \u001b[39m2\u001b[39m,\n\u001b[1;32m     18\u001b[0m     \u001b[39m'\u001b[39m\u001b[39mn_mate_swaps\u001b[39m\u001b[39m'\u001b[39m: \u001b[39m1\u001b[39m,\n\u001b[1;32m     19\u001b[0m     \u001b[39m'\u001b[39m\u001b[39mn_steps\u001b[39m\u001b[39m'\u001b[39m: \u001b[39m15\u001b[39m,\n\u001b[1;32m     20\u001b[0m     \u001b[39m'\u001b[39m\u001b[39mlatent_qubits\u001b[39m\u001b[39m'\u001b[39m: \u001b[39m1\u001b[39m,\n\u001b[1;32m     21\u001b[0m     \u001b[39m'\u001b[39m\u001b[39mn_shots\u001b[39m\u001b[39m'\u001b[39m: \u001b[39m5000\u001b[39m,\n\u001b[1;32m     22\u001b[0m     \u001b[39m'\u001b[39m\u001b[39mseed\u001b[39m\u001b[39m'\u001b[39m: rng_seed,\n\u001b[0;32m---> 23\u001b[0m     \u001b[39m'\u001b[39m\u001b[39mevents\u001b[39m\u001b[39m'\u001b[39m: events,\n\u001b[1;32m     24\u001b[0m     \u001b[39m'\u001b[39m\u001b[39mtrain_size\u001b[39m\u001b[39m'\u001b[39m: \u001b[39m16\u001b[39m,\n\u001b[1;32m     25\u001b[0m }\n\u001b[1;32m     27\u001b[0m ga \u001b[39m=\u001b[39m ga_vqc\u001b[39m.\u001b[39msetup(config)\n",
      "\u001b[0;31mNameError\u001b[0m: name 'events' is not defined"
     ]
    }
   ],
   "source": [
    "rng_seed = None\n",
    "rng = np.random.default_rng(seed=rng_seed)\n",
    "\n",
    "config = {\n",
    "    'backend_type': 'high',\n",
    "    'vqc': main, # main func that handles variational quantum circuit training\n",
    "    'max_concurrent': 1,\n",
    "    'n_qubits': 3,\n",
    "    'max_moments': 10,\n",
    "    'add_moment_prob': 0.15,\n",
    "    'gates_arr': ['I', 'RX', 'RY', 'RZ', 'CNOT'],\n",
    "    'gates_probs': [0.175, 0.175, 0.175, 0.175, 0.3],\n",
    "    'pop_size': 20, # must be a multiple of max_concurrent\n",
    "    'init_pop_size': 1000,\n",
    "    'n_new_individuals': 6,\n",
    "    'n_winners': 20, # needs to be an even number\n",
    "    'n_mutations': 2,\n",
    "    'n_mate_swaps': 1,\n",
    "    'n_steps': 15,\n",
    "    'latent_qubits': 1,\n",
    "    'n_shots': 5000,\n",
    "    'seed': rng_seed,\n",
    "    'events': events,\n",
    "    'train_size': 16,\n",
    "}\n",
    "\n",
    "ga = gav.setup(config)"
   ]
  },
  {
   "cell_type": "code",
   "execution_count": null,
   "id": "ae44565f-30ea-4d47-af05-d4f5b45cb1ef",
   "metadata": {},
   "outputs": [
    {
     "name": "stdout",
     "output_type": "stream",
     "text": [
      "GA iteration 0\n",
      "Mem GA process - 269.5546875\n"
     ]
    },
    {
     "name": "stderr",
     "output_type": "stream",
     "text": [
      "/usr/local/lib/python3.8/site-packages/autograd/tracer.py:14: UserWarning: Output seems independent of input.\n",
      "  warnings.warn(\"Output seems independent of input.\")\n",
      "/usr/local/lib/python3.8/site-packages/autograd/tracer.py:14: UserWarning: Output seems independent of input.\n",
      "  warnings.warn(\"Output seems independent of input.\")\n",
      "/usr/local/lib/python3.8/site-packages/autograd/tracer.py:14: UserWarning: Output seems independent of input.\n",
      "  warnings.warn(\"Output seems independent of input.\")\n"
     ]
    },
    {
     "name": "stdout",
     "output_type": "stream",
     "text": [
      "Mem qml final - 464.51171875\n"
     ]
    },
    {
     "name": "stderr",
     "output_type": "stream",
     "text": [
      "/usr/local/lib/python3.8/site-packages/autograd/tracer.py:14: UserWarning: Output seems independent of input.\n",
      "  warnings.warn(\"Output seems independent of input.\")\n",
      "/usr/local/lib/python3.8/site-packages/autograd/tracer.py:14: UserWarning: Output seems independent of input.\n",
      "  warnings.warn(\"Output seems independent of input.\")\n",
      "/usr/local/lib/python3.8/site-packages/autograd/tracer.py:14: UserWarning: Output seems independent of input.\n",
      "  warnings.warn(\"Output seems independent of input.\")\n",
      "/usr/local/lib/python3.8/site-packages/autograd/tracer.py:14: UserWarning: Output seems independent of input.\n",
      "  warnings.warn(\"Output seems independent of input.\")\n",
      "/usr/local/lib/python3.8/site-packages/autograd/tracer.py:14: UserWarning: Output seems independent of input.\n",
      "  warnings.warn(\"Output seems independent of input.\")\n",
      "/usr/local/lib/python3.8/site-packages/autograd/tracer.py:14: UserWarning: Output seems independent of input.\n",
      "  warnings.warn(\"Output seems independent of input.\")\n",
      "/usr/local/lib/python3.8/site-packages/autograd/tracer.py:14: UserWarning: Output seems independent of input.\n",
      "  warnings.warn(\"Output seems independent of input.\")\n",
      "/usr/local/lib/python3.8/site-packages/autograd/tracer.py:14: UserWarning: Output seems independent of input.\n",
      "  warnings.warn(\"Output seems independent of input.\")\n"
     ]
    },
    {
     "name": "stdout",
     "output_type": "stream",
     "text": [
      "QML Optimization in 4201.63 seconds\n",
      "!! IMPROVED PERFORMANCE !!\n",
      "Best Fitness: 0.9928266666666666, Best ansatz: [{0: 'CNOT_T-2', 1: 'RX', 2: 'CNOT_C-0'}, {0: 'RX', 1: 'CNOT_C-2', 2: 'CNOT_T-1'}, {0: 'CNOT_C-2', 1: 'I', 2: 'CNOT_T-0'}, {0: 'RX', 1: 'I', 2: 'RY'}, {0: 'I', 1: 'I', 2: 'RZ'}, {0: 'RX', 1: 'RX', 2: 'RZ'}, {0: 'RY', 1: 'CNOT_T-2', 2: 'CNOT_C-1'}, {0: 'CNOT_C-1', 1: 'CNOT_T-0', 2: 'RZ'}]\n",
      "GA iteration 1\n",
      "Mem GA process - 270.30078125\n",
      "Mem qml final - 533.6484375\n"
     ]
    },
    {
     "name": "stderr",
     "output_type": "stream",
     "text": [
      "/usr/local/lib/python3.8/site-packages/autograd/tracer.py:14: UserWarning: Output seems independent of input.\n",
      "  warnings.warn(\"Output seems independent of input.\")\n",
      "/usr/local/lib/python3.8/site-packages/autograd/tracer.py:14: UserWarning: Output seems independent of input.\n",
      "  warnings.warn(\"Output seems independent of input.\")\n"
     ]
    },
    {
     "name": "stdout",
     "output_type": "stream",
     "text": [
      "QML Optimization in 7570.43 seconds\n",
      "!! IMPROVED PERFORMANCE !!\n",
      "Best Fitness: 0.9932666666666666, Best ansatz: [{0: 'RY', 1: 'RY', 2: 'RX'}, {0: 'RY', 1: 'RY', 2: 'RZ'}, {0: 'RZ', 1: 'RZ', 2: 'RY'}, {0: 'CNOT_T-2', 1: 'I', 2: 'CNOT_C-0'}, {0: 'I', 1: 'RZ', 2: 'RX'}, {0: 'RX', 1: 'CNOT_T-2', 2: 'CNOT_C-1'}, {0: 'RX', 1: 'RY', 2: 'RY'}, {0: 'RZ', 1: 'RX', 2: 'I'}]\n",
      "GA iteration 2\n",
      "Mem GA process - 270.5234375\n",
      "Mem qml final - 518.76953125\n"
     ]
    },
    {
     "name": "stderr",
     "output_type": "stream",
     "text": [
      "/usr/local/lib/python3.8/site-packages/autograd/tracer.py:14: UserWarning: Output seems independent of input.\n",
      "  warnings.warn(\"Output seems independent of input.\")\n"
     ]
    },
    {
     "name": "stdout",
     "output_type": "stream",
     "text": [
      "QML Optimization in 12454.22 seconds\n",
      "!! IMPROVED PERFORMANCE !!\n",
      "Best Fitness: 0.9936533333333334, Best ansatz: [{0: 'RZ', 1: 'RX', 2: 'RZ'}, {0: 'I', 1: 'CNOT_T-2', 2: 'CNOT_C-1'}, {0: 'I', 1: 'CNOT_C-2', 2: 'CNOT_T-1'}, {0: 'RY', 1: 'RX', 2: 'I'}, {0: 'CNOT_C-1', 1: 'CNOT_T-0', 2: 'RZ'}, {0: 'RZ', 1: 'CNOT_T-2', 2: 'CNOT_C-1'}, {0: 'RY', 1: 'RY', 2: 'RZ'}, {0: 'RY', 1: 'RX', 2: 'I'}, {0: 'RZ', 1: 'RY', 2: 'RZ'}, {0: 'I', 1: 'RX', 2: 'RZ'}]\n",
      "GA iteration 3\n",
      "Mem GA process - 270.55859375\n",
      "Mem qml final - 440.19140625\n",
      "QML Optimization in 15350.04 seconds\n",
      "Best Fitness: 0.9936533333333334, Best ansatz: [{0: 'RZ', 1: 'RX', 2: 'RZ'}, {0: 'I', 1: 'CNOT_T-2', 2: 'CNOT_C-1'}, {0: 'I', 1: 'CNOT_C-2', 2: 'CNOT_T-1'}, {0: 'RY', 1: 'RX', 2: 'I'}, {0: 'CNOT_C-1', 1: 'CNOT_T-0', 2: 'RZ'}, {0: 'RZ', 1: 'CNOT_T-2', 2: 'CNOT_C-1'}, {0: 'RY', 1: 'RY', 2: 'RZ'}, {0: 'RY', 1: 'RX', 2: 'I'}, {0: 'RZ', 1: 'RY', 2: 'RZ'}, {0: 'I', 1: 'RX', 2: 'RZ'}]\n",
      "GA iteration 4\n",
      "Mem GA process - 270.5859375\n",
      "Mem qml final - 438.03125\n",
      "QML Optimization in 15169.44 seconds\n",
      "Best Fitness: 0.9936533333333334, Best ansatz: [{0: 'RZ', 1: 'RX', 2: 'RZ'}, {0: 'I', 1: 'CNOT_T-2', 2: 'CNOT_C-1'}, {0: 'I', 1: 'CNOT_C-2', 2: 'CNOT_T-1'}, {0: 'RY', 1: 'RX', 2: 'I'}, {0: 'CNOT_C-1', 1: 'CNOT_T-0', 2: 'RZ'}, {0: 'RZ', 1: 'CNOT_T-2', 2: 'CNOT_C-1'}, {0: 'RY', 1: 'RY', 2: 'RZ'}, {0: 'RY', 1: 'RX', 2: 'I'}, {0: 'RZ', 1: 'RY', 2: 'RZ'}, {0: 'I', 1: 'RX', 2: 'RZ'}]\n",
      "GA iteration 5\n",
      "Mem GA process - 270.6640625\n",
      "Mem qml final - 465.89453125\n",
      "QML Optimization in 13044.30 seconds\n",
      "Best Fitness: 0.9936533333333334, Best ansatz: [{0: 'RZ', 1: 'RX', 2: 'RZ'}, {0: 'I', 1: 'CNOT_T-2', 2: 'CNOT_C-1'}, {0: 'I', 1: 'CNOT_C-2', 2: 'CNOT_T-1'}, {0: 'RY', 1: 'RX', 2: 'I'}, {0: 'CNOT_C-1', 1: 'CNOT_T-0', 2: 'RZ'}, {0: 'RZ', 1: 'CNOT_T-2', 2: 'CNOT_C-1'}, {0: 'RY', 1: 'RY', 2: 'RZ'}, {0: 'RY', 1: 'RX', 2: 'I'}, {0: 'RZ', 1: 'RY', 2: 'RZ'}, {0: 'I', 1: 'RX', 2: 'RZ'}]\n",
      "GA iteration 6\n",
      "Mem GA process - 270.6796875\n",
      "Mem qml final - 419.11328125\n"
     ]
    },
    {
     "name": "stderr",
     "output_type": "stream",
     "text": [
      "/usr/local/lib/python3.8/site-packages/autograd/tracer.py:14: UserWarning: Output seems independent of input.\n",
      "  warnings.warn(\"Output seems independent of input.\")\n"
     ]
    },
    {
     "name": "stdout",
     "output_type": "stream",
     "text": [
      "QML Optimization in 13954.13 seconds\n",
      "Best Fitness: 0.9936533333333334, Best ansatz: [{0: 'RZ', 1: 'RX', 2: 'RZ'}, {0: 'I', 1: 'CNOT_T-2', 2: 'CNOT_C-1'}, {0: 'I', 1: 'CNOT_C-2', 2: 'CNOT_T-1'}, {0: 'RY', 1: 'RX', 2: 'I'}, {0: 'CNOT_C-1', 1: 'CNOT_T-0', 2: 'RZ'}, {0: 'RZ', 1: 'CNOT_T-2', 2: 'CNOT_C-1'}, {0: 'RY', 1: 'RY', 2: 'RZ'}, {0: 'RY', 1: 'RX', 2: 'I'}, {0: 'RZ', 1: 'RY', 2: 'RZ'}, {0: 'I', 1: 'RX', 2: 'RZ'}]\n",
      "GA iteration 7\n",
      "Mem GA process - 270.703125\n",
      "Mem qml final - 513.37109375\n",
      "QML Optimization in 16101.53 seconds\n",
      "Best Fitness: 0.9936533333333334, Best ansatz: [{0: 'RZ', 1: 'RX', 2: 'RZ'}, {0: 'I', 1: 'CNOT_T-2', 2: 'CNOT_C-1'}, {0: 'I', 1: 'CNOT_C-2', 2: 'CNOT_T-1'}, {0: 'RY', 1: 'RX', 2: 'I'}, {0: 'CNOT_C-1', 1: 'CNOT_T-0', 2: 'RZ'}, {0: 'RZ', 1: 'CNOT_T-2', 2: 'CNOT_C-1'}, {0: 'RY', 1: 'RY', 2: 'RZ'}, {0: 'RY', 1: 'RX', 2: 'I'}, {0: 'RZ', 1: 'RY', 2: 'RZ'}, {0: 'I', 1: 'RX', 2: 'RZ'}]\n",
      "GA iteration 8\n",
      "Mem GA process - 270.73046875\n",
      "Mem qml final - 565.0\n",
      "QML Optimization in 18278.97 seconds\n",
      "Best Fitness: 0.9936533333333334, Best ansatz: [{0: 'RZ', 1: 'RX', 2: 'RZ'}, {0: 'I', 1: 'CNOT_T-2', 2: 'CNOT_C-1'}, {0: 'I', 1: 'CNOT_C-2', 2: 'CNOT_T-1'}, {0: 'RY', 1: 'RX', 2: 'I'}, {0: 'CNOT_C-1', 1: 'CNOT_T-0', 2: 'RZ'}, {0: 'RZ', 1: 'CNOT_T-2', 2: 'CNOT_C-1'}, {0: 'RY', 1: 'RY', 2: 'RZ'}, {0: 'RY', 1: 'RX', 2: 'I'}, {0: 'RZ', 1: 'RY', 2: 'RZ'}, {0: 'I', 1: 'RX', 2: 'RZ'}]\n",
      "GA iteration 9\n",
      "Mem GA process - 270.68359375\n",
      "Mem qml final - 365.29296875\n",
      "QML Optimization in 23277.46 seconds\n",
      "Best Fitness: 0.9936533333333334, Best ansatz: [{0: 'RZ', 1: 'RX', 2: 'RZ'}, {0: 'I', 1: 'CNOT_T-2', 2: 'CNOT_C-1'}, {0: 'I', 1: 'CNOT_C-2', 2: 'CNOT_T-1'}, {0: 'RY', 1: 'RX', 2: 'I'}, {0: 'CNOT_C-1', 1: 'CNOT_T-0', 2: 'RZ'}, {0: 'RZ', 1: 'CNOT_T-2', 2: 'CNOT_C-1'}, {0: 'RY', 1: 'RY', 2: 'RZ'}, {0: 'RY', 1: 'RX', 2: 'I'}, {0: 'RZ', 1: 'RY', 2: 'RZ'}, {0: 'I', 1: 'RX', 2: 'RZ'}]\n",
      "GA iteration 10\n",
      "Mem GA process - 210.875\n",
      "Mem qml final - 551.48828125\n",
      "QML Optimization in 27605.92 seconds\n",
      "!! IMPROVED PERFORMANCE !!\n",
      "Best Fitness: 0.9937333333333334, Best ansatz: [{0: 'RZ', 1: 'CNOT_T-2', 2: 'CNOT_C-1'}, {0: 'I', 1: 'RY', 2: 'RY'}, {0: 'CNOT_T-1', 1: 'CNOT_C-0', 2: 'RX'}, {0: 'I', 1: 'RX', 2: 'RY'}, {0: 'CNOT_C-1', 1: 'CNOT_T-0', 2: 'RX'}, {0: 'RZ', 1: 'RY', 2: 'RX'}, {0: 'RX', 1: 'RY', 2: 'RZ'}, {0: 'CNOT_T-1', 1: 'CNOT_C-0', 2: 'I'}, {0: 'CNOT_C-2', 1: 'RX', 2: 'CNOT_T-0'}, {0: 'RZ', 1: 'RY', 2: 'RY'}, {0: 'CNOT_T-1', 1: 'CNOT_C-0', 2: 'RX'}, {0: 'RX', 1: 'RZ', 2: 'RZ'}, {0: 'CNOT_T-1', 1: 'CNOT_C-0', 2: 'RX'}, {0: 'RY', 1: 'RY', 2: 'I'}, {0: 'I', 1: 'RZ', 2: 'RY'}, {0: 'I', 1: 'RY', 2: 'I'}, {0: 'I', 1: 'RZ', 2: 'RZ'}, {0: 'CNOT_T-2', 1: 'RY', 2: 'CNOT_C-0'}, {0: 'RX', 1: 'RZ', 2: 'RY'}, {0: 'RZ', 1: 'CNOT_T-2', 2: 'CNOT_C-1'}]\n",
      "GA iteration 11\n",
      "Mem GA process - 199.5703125\n"
     ]
    }
   ],
   "source": [
    "ga.evolve()"
   ]
  },
  {
   "cell_type": "code",
   "execution_count": null,
   "id": "fb6181d6-a8d0-4a25-a9c1-c01de7ba85f5",
   "metadata": {},
   "outputs": [],
   "source": []
  }
 ],
 "metadata": {
  "kernelspec": {
   "display_name": "Python 3",
   "language": "python",
   "name": "python3"
  },
  "language_info": {
   "codemirror_mode": {
    "name": "ipython",
    "version": 3
   },
   "file_extension": ".py",
   "mimetype": "text/x-python",
   "name": "python",
   "nbconvert_exporter": "python",
   "pygments_lexer": "ipython3",
   "version": "3.9.6"
  },
  "vscode": {
   "interpreter": {
    "hash": "aee8b7b246df8f9039afb4144a1f6fd8d2ca17a180786b69acc140d282b71a49"
   }
  }
 },
 "nbformat": 4,
 "nbformat_minor": 5
}
